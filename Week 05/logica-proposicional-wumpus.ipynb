{
 "metadata": {
  "language_info": {
   "codemirror_mode": {
    "name": "ipython",
    "version": 3
   },
   "file_extension": ".py",
   "mimetype": "text/x-python",
   "name": "python",
   "nbconvert_exporter": "python",
   "pygments_lexer": "ipython3",
   "version": "3.8.5"
  },
  "orig_nbformat": 2,
  "kernelspec": {
   "name": "python385jvsc74a57bd034185415d7b786f14314ce7db310e805d54c7f916f92ebffbe29e0c68c0ec28c",
   "display_name": "Python 3.8.5 64-bit ('base': conda)"
  }
 },
 "nbformat": 4,
 "nbformat_minor": 2,
 "cells": [
  {
   "cell_type": "code",
   "execution_count": 1,
   "metadata": {},
   "outputs": [],
   "source": [
    "def conjuncion(p, q):\n",
    "    z = (p and q)\n",
    "    return z"
   ]
  },
  {
   "cell_type": "code",
   "execution_count": 2,
   "metadata": {},
   "outputs": [],
   "source": [
    "def disyuncion(p, q):\n",
    "    z = (p or q)\n",
    "    return z"
   ]
  },
  {
   "cell_type": "code",
   "execution_count": 3,
   "metadata": {},
   "outputs": [],
   "source": [
    "def negacion(p):\n",
    "    z = not p\n",
    "    return z"
   ]
  },
  {
   "cell_type": "code",
   "execution_count": 4,
   "metadata": {},
   "outputs": [],
   "source": [
    "def implicacion(p, q):\n",
    "    if (p and not q):\n",
    "        return False\n",
    "    return True"
   ]
  },
  {
   "cell_type": "code",
   "execution_count": 5,
   "metadata": {},
   "outputs": [],
   "source": [
    "def bicondicional(p, q):\n",
    "    z = conjuncion(implicacion(p,q), implicacion(q, p))\n",
    "    return z"
   ]
  },
  {
   "cell_type": "code",
   "execution_count": 6,
   "metadata": {},
   "outputs": [
    {
     "output_type": "stream",
     "name": "stdout",
     "text": [
      "P      Q     ¬P     P^Q     PvQ     P->Q    P<->Q\nFalse False True False False True True\nFalse True True False True True False\nTrue False False False True False False\nTrue True False True True True True\n"
     ]
    }
   ],
   "source": [
    "if __name__ == '__main__':\n",
    "    datos = []\n",
    "    P = [False, True]\n",
    "    Q = [False, True]\n",
    "    for Pval in P:\n",
    "        for Qval in Q:\n",
    "            lista = []\n",
    "            lista.append(Pval)\n",
    "            lista.append(Qval)\n",
    "            datos.append(lista)\n",
    "    print(\"P      Q     ¬P     P^Q     PvQ     P->Q    P<->Q\")\n",
    "    for (P, Q) in datos:\n",
    "        r1 = negacion(P)\n",
    "        r2 = conjuncion(P, Q)\n",
    "        r3 = disyuncion(P, Q)\n",
    "        r4 = implicacion(P, Q)\n",
    "        r5 = bicondicional(P, Q)\n",
    "        print(P, Q, r1, r2, r3, r4, r5)\n"
   ]
  },
  {
   "cell_type": "code",
   "execution_count": 7,
   "metadata": {},
   "outputs": [
    {
     "output_type": "stream",
     "name": "stdout",
     "text": [
      "False False False False False False False ---:--- True True True True False False\nFalse False False False False False True ---:--- True True False True False False\nFalse False False False False True False ---:--- True True False True False False\nFalse False False False False True True ---:--- True True False True False False\nFalse False False False True False False ---:--- True False True True False False\nFalse False False False True False True ---:--- True False False True False False\nFalse False False False True True False ---:--- True False False True False False\nFalse False False False True True True ---:--- True False False True False False\nFalse False False True False False False ---:--- True False True True False False\nFalse False False True False False True ---:--- True False False True False False\nFalse False False True False True False ---:--- True False False True False False\nFalse False False True False True True ---:--- True False False True False False\nFalse False False True True False False ---:--- True False True True False False\nFalse False False True True False True ---:--- True False False True False False\nFalse False False True True True False ---:--- True False False True False False\nFalse False False True True True True ---:--- True False False True False False\nFalse False True False False False False ---:--- False True False True False False\nFalse False True False False False True ---:--- False True False True False False\nFalse False True False False True False ---:--- False True False True False False\nFalse False True False False True True ---:--- False True False True False False\nFalse False True False True False False ---:--- False False False True False False\nFalse False True False True False True ---:--- False False False True False False\nFalse False True False True True False ---:--- False False False True False False\nFalse False True False True True True ---:--- False False False True False False\nFalse False True True False False False ---:--- False False False True False False\nFalse False True True False False True ---:--- False False False True False False\nFalse False True True False True False ---:--- False False False True False False\nFalse False True True False True True ---:--- False False False True False False\nFalse False True True True False False ---:--- False False False True False False\nFalse False True True True False True ---:--- False False False True False False\nFalse False True True True True False ---:--- False False False True False False\nFalse False True True True True True ---:--- False False False True False False\nFalse True False False False False False ---:--- True True False True True False\nFalse True False False False False True ---:--- True True True True True True\nFalse True False False False True False ---:--- True True True True True True\nFalse True False False False True True ---:--- True True True True True True\nFalse True False False True False False ---:--- True False False True True False\nFalse True False False True False True ---:--- True False True True True False\nFalse True False False True True False ---:--- True False True True True False\nFalse True False False True True True ---:--- True False True True True False\nFalse True False True False False False ---:--- True False False True True False\nFalse True False True False False True ---:--- True False True True True False\nFalse True False True False True False ---:--- True False True True True False\nFalse True False True False True True ---:--- True False True True True False\nFalse True False True True False False ---:--- True False False True True False\nFalse True False True True False True ---:--- True False True True True False\nFalse True False True True True False ---:--- True False True True True False\nFalse True False True True True True ---:--- True False True True True False\nFalse True True False False False False ---:--- False True True True True False\nFalse True True False False False True ---:--- False True True True True False\nFalse True True False False True False ---:--- False True True True True False\nFalse True True False False True True ---:--- False True True True True False\nFalse True True False True False False ---:--- False False True True True False\nFalse True True False True False True ---:--- False False True True True False\nFalse True True False True True False ---:--- False False True True True False\nFalse True True False True True True ---:--- False False True True True False\nFalse True True True False False False ---:--- False False True True True False\nFalse True True True False False True ---:--- False False True True True False\nFalse True True True False True False ---:--- False False True True True False\nFalse True True True False True True ---:--- False False True True True False\nFalse True True True True False False ---:--- False False True True True False\nFalse True True True True False True ---:--- False False True True True False\nFalse True True True True True False ---:--- False False True True True False\nFalse True True True True True True ---:--- False False True True True False\nTrue False False False False False False ---:--- True False True False False False\nTrue False False False False False True ---:--- True False False False False False\nTrue False False False False True False ---:--- True False False False False False\nTrue False False False False True True ---:--- True False False False False False\nTrue False False False True False False ---:--- True True True False False False\nTrue False False False True False True ---:--- True True False False False False\nTrue False False False True True False ---:--- True True False False False False\nTrue False False False True True True ---:--- True True False False False False\nTrue False False True False False False ---:--- True True True False False False\nTrue False False True False False True ---:--- True True False False False False\nTrue False False True False True False ---:--- True True False False False False\nTrue False False True False True True ---:--- True True False False False False\nTrue False False True True False False ---:--- True True True False False False\nTrue False False True True False True ---:--- True True False False False False\nTrue False False True True True False ---:--- True True False False False False\nTrue False False True True True True ---:--- True True False False False False\nTrue False True False False False False ---:--- False False False False False False\nTrue False True False False False True ---:--- False False False False False False\nTrue False True False False True False ---:--- False False False False False False\nTrue False True False False True True ---:--- False False False False False False\nTrue False True False True False False ---:--- False True False False False False\nTrue False True False True False True ---:--- False True False False False False\nTrue False True False True True False ---:--- False True False False False False\nTrue False True False True True True ---:--- False True False False False False\nTrue False True True False False False ---:--- False True False False False False\nTrue False True True False False True ---:--- False True False False False False\nTrue False True True False True False ---:--- False True False False False False\nTrue False True True False True True ---:--- False True False False False False\nTrue False True True True False False ---:--- False True False False False False\nTrue False True True True False True ---:--- False True False False False False\nTrue False True True True True False ---:--- False True False False False False\nTrue False True True True True True ---:--- False True False False False False\nTrue True False False False False False ---:--- True False False False True False\nTrue True False False False False True ---:--- True False True False True False\nTrue True False False False True False ---:--- True False True False True False\nTrue True False False False True True ---:--- True False True False True False\nTrue True False False True False False ---:--- True True False False True False\nTrue True False False True False True ---:--- True True True False True False\nTrue True False False True True False ---:--- True True True False True False\nTrue True False False True True True ---:--- True True True False True False\nTrue True False True False False False ---:--- True True False False True False\nTrue True False True False False True ---:--- True True True False True False\nTrue True False True False True False ---:--- True True True False True False\nTrue True False True False True True ---:--- True True True False True False\nTrue True False True True False False ---:--- True True False False True False\nTrue True False True True False True ---:--- True True True False True False\nTrue True False True True True False ---:--- True True True False True False\nTrue True False True True True True ---:--- True True True False True False\nTrue True True False False False False ---:--- False False True False True False\nTrue True True False False False True ---:--- False False True False True False\nTrue True True False False True False ---:--- False False True False True False\nTrue True True False False True True ---:--- False False True False True False\nTrue True True False True False False ---:--- False True True False True False\nTrue True True False True False True ---:--- False True True False True False\nTrue True True False True True False ---:--- False True True False True False\nTrue True True False True True True ---:--- False True True False True False\nTrue True True True False False False ---:--- False True True False True False\nTrue True True True False False True ---:--- False True True False True False\nTrue True True True False True False ---:--- False True True False True False\nTrue True True True False True True ---:--- False True True False True False\nTrue True True True True False False ---:--- False True True False True False\nTrue True True True True False True ---:--- False True True False True False\nTrue True True True True True False ---:--- False True True False True False\nTrue True True True True True True ---:--- False True True False True False\n"
     ]
    }
   ],
   "source": [
    "datos = []\n",
    "B11 = [False, True]\n",
    "B21 = [False, True]\n",
    "P11 = [False, True]\n",
    "P12 = [False, True]\n",
    "P21 = [False, True]\n",
    "P22 = [False, True]\n",
    "P31 = [False, True]\n",
    "for b11 in B11:\n",
    "    for b21 in B21:\n",
    "        for p11 in P11:\n",
    "            for p12 in P12:\n",
    "                for p21 in P21:\n",
    "                    for p22 in P22:\n",
    "                        for p31 in P31:\n",
    "                            lista = []\n",
    "                            lista.append(b11)\n",
    "                            lista.append(b21)\n",
    "                            lista.append(p11)\n",
    "                            lista.append(p12)\n",
    "                            lista.append(p21)\n",
    "                            lista.append(p22)\n",
    "                            lista.append(p31)\n",
    "                            datos.append(lista)\n",
    "                            \n",
    "for (B11, B21, P11, P12, P21, P22, P31) in datos:\n",
    "    R1 = negacion(P11)\n",
    "    R2 = bicondicional(B11, disyuncion(P12, P21))\n",
    "    b = disyuncion(P22, P31) \n",
    "    a = disyuncion(P11, b)\n",
    "    R3 = bicondicional(B21, a)\n",
    "    R4 = negacion(B11)\n",
    "    R5 = B21\n",
    "    bc = conjuncion(R1, conjuncion(R2, conjuncion(R3, conjuncion(R4, R5))))\n",
    "    print(B11, B21, P11, P12, P21, P22, P31, \"---:---\", R1, R2, R3, R4, R5, bc)\n"
   ]
  },
  {
   "cell_type": "code",
   "execution_count": null,
   "metadata": {},
   "outputs": [],
   "source": []
  }
 ]
}