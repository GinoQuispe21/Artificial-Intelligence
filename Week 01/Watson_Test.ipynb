{
 "metadata": {
  "language_info": {
   "codemirror_mode": {
    "name": "ipython",
    "version": 3
   },
   "file_extension": ".py",
   "mimetype": "text/x-python",
   "name": "python",
   "nbconvert_exporter": "python",
   "pygments_lexer": "ipython3",
   "version": "3.8.5"
  },
  "orig_nbformat": 2,
  "kernelspec": {
   "name": "python3",
   "display_name": "Python 3.8.5 64-bit ('base': conda)",
   "metadata": {
    "interpreter": {
     "hash": "34185415d7b786f14314ce7db310e805d54c7f916f92ebffbe29e0c68c0ec28c"
    }
   }
  }
 },
 "nbformat": 4,
 "nbformat_minor": 2,
 "cells": [
  {
   "cell_type": "code",
   "execution_count": 1,
   "metadata": {},
   "outputs": [],
   "source": [
    "import json"
   ]
  },
  {
   "cell_type": "code",
   "execution_count": 2,
   "metadata": {},
   "outputs": [],
   "source": [
    "from ibm_watson import NaturalLanguageUnderstandingV1"
   ]
  },
  {
   "cell_type": "code",
   "execution_count": 3,
   "metadata": {},
   "outputs": [],
   "source": [
    "from ibm_cloud_sdk_core.authenticators import IAMAuthenticator"
   ]
  },
  {
   "cell_type": "code",
   "execution_count": 4,
   "metadata": {},
   "outputs": [],
   "source": [
    "from ibm_watson.natural_language_understanding_v1 import Features, CategoriesOptions"
   ]
  },
  {
   "cell_type": "code",
   "execution_count": 5,
   "metadata": {},
   "outputs": [],
   "source": [
    "authenticator = IAMAuthenticator('XfrcHkoR8Z4DmkJVTB9Ynrdu1wmcVxS___Uv3qBxQJgm')\n",
    "natural_language_understanding = NaturalLanguageUnderstandingV1(\n",
    "    version='2020-08-01',\n",
    "    authenticator=authenticator\n",
    ")"
   ]
  },
  {
   "cell_type": "code",
   "execution_count": 6,
   "metadata": {},
   "outputs": [],
   "source": [
    "natural_language_understanding.set_service_url('https://api.us-south.natural-language-understanding.watson.cloud.ibm.com/instances/3fd8f2a0-972d-400c-8395-a52731e6ce6a')"
   ]
  },
  {
   "cell_type": "code",
   "execution_count": 7,
   "metadata": {},
   "outputs": [
    {
     "output_type": "stream",
     "name": "stdout",
     "text": [
      "{\n  \"usage\": {\n    \"text_units\": 1,\n    \"text_characters\": 7507,\n    \"features\": 1\n  },\n  \"retrieved_url\": \"https://elcomercio.pe/politica/gobierno/vacunagate-elizabeth-astete-y-violeta-bermudez-se-contradicen-por-irregular-vacunacion-sinopharm-peru-noticia/?ref=ecr\",\n  \"language\": \"es\",\n  \"categories\": [\n    {\n      \"score\": 0.78464,\n      \"label\": \"/law, govt and politics\"\n    },\n    {\n      \"score\": 0.735604,\n      \"label\": \"/technology and computing/internet technology/social network\"\n    },\n    {\n      \"score\": 0.659377,\n      \"label\": \"/law, govt and politics/government/heads of state\"\n    }\n  ]\n}\n"
     ]
    }
   ],
   "source": [
    "response = natural_language_understanding.analyze(\n",
    "    url='https://elcomercio.pe/politica/gobierno/vacunagate-elizabeth-astete-y-violeta-bermudez-se-contradicen-por-irregular-vacunacion-sinopharm-peru-noticia/?ref=ecr',\n",
    "    features=Features(categories=CategoriesOptions(limit=3))).get_result()\n",
    "\n",
    "print(json.dumps(response, indent=2))"
   ]
  }
 ]
}