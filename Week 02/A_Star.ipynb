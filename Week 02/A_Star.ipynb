{
 "metadata": {
  "language_info": {
   "codemirror_mode": {
    "name": "ipython",
    "version": 3
   },
   "file_extension": ".py",
   "mimetype": "text/x-python",
   "name": "python",
   "nbconvert_exporter": "python",
   "pygments_lexer": "ipython3",
   "version": "3.8.5"
  },
  "orig_nbformat": 2,
  "kernelspec": {
   "name": "python3",
   "display_name": "Python 3.8.5 64-bit ('base': conda)",
   "metadata": {
    "interpreter": {
     "hash": "34185415d7b786f14314ce7db310e805d54c7f916f92ebffbe29e0c68c0ec28c"
    }
   }
  }
 },
 "nbformat": 4,
 "nbformat_minor": 2,
 "cells": [
  {
   "cell_type": "code",
   "execution_count": 1,
   "metadata": {},
   "outputs": [],
   "source": [
    "class Edge(object):\n",
    "    def __init__(self, cityB, distance):\n",
    "        self.cityB = cityB\n",
    "        self.distance = distance"
   ]
  },
  {
   "cell_type": "code",
   "execution_count": 2,
   "metadata": {},
   "outputs": [],
   "source": [
    "class Node(object):  # tipo objeto\n",
    "    def __init__(self, city):\n",
    "        self.city = city\n",
    "        self.hs = h[city]\n",
    "        self.fs = 0\n",
    "        self.parent_node = None\n",
    "\n",
    "    def isGoal(self, goalNodo):\n",
    "        return goalNodo == self.city"
   ]
  },
  {
   "cell_type": "code",
   "execution_count": 3,
   "metadata": {},
   "outputs": [],
   "source": [
    "class NodeList(list):\n",
    "    def find(self, city):\n",
    "        l = [t for t in self if t.city == city]\n",
    "        return l[0] if l != [] else None\n",
    "\n",
    "    def remove(self, node):\n",
    "        del self[self.index(node)]"
   ]
  },
  {
   "cell_type": "code",
   "execution_count": 4,
   "metadata": {},
   "outputs": [],
   "source": [
    "def addEdge(cityA, cityB, distance):\n",
    "    graph[cities[cityA]].append(Edge(cityB, distance))\n",
    "    graph[cities[cityB]].append(Edge(cityA, distance))"
   ]
  },
  {
   "cell_type": "code",
   "execution_count": 5,
   "metadata": {},
   "outputs": [],
   "source": [
    "cities = {'Arad': 0, 'Bucharest': 1, 'Craiova': 2, 'Dobreta': 3, 'Eforie': 4, 'Fagaras': 5, 'Giurgiu': 6, 'Hirsova': 7,\n",
    "          'Iasi': 8, 'Lugoj': 9,\n",
    "          'Mehadia': 10, 'Neamt': 11, 'Oradea': 12, 'Pitesti': 13, 'Rimnicu Vilcea': 14, 'Sibiu': 15, 'Timisoara': 16,\n",
    "          'Urziceni': 17, 'Vaslui': 18, 'Zerind': 19}\n",
    "\n",
    "graph = [[], [], [], [], [], [], [], [], [], [], [], [], [], [], [], [], [], [], [], []]\n",
    "\n",
    "h = {'Arad': 366, 'Bucharest': 0, 'Craiova': 160, 'Dobreta': 242, 'Eforie': 161, 'Fagaras': 178, 'Giurgiu': 77,\n",
    "     'Hirsova': 151, 'Iasi': 226, 'Lugoj': 244,\n",
    "     'Mehadia': 241, 'Neamt': 234, 'Oradea': 380, 'Pitesti': 98, 'Rimnicu Vilcea': 193, 'Sibiu': 253, 'Timisoara': 329,\n",
    "     'Urziceni': 80, 'Vaslui': 199, 'Zerind': 374}"
   ]
  },
  {
   "cell_type": "code",
   "execution_count": 6,
   "metadata": {},
   "outputs": [],
   "source": [
    "addEdge('Arad', 'Zerind', 75)\n",
    "addEdge('Zerind', 'Oradea', 71)\n",
    "addEdge('Oradea', 'Sibiu', 151)\n",
    "addEdge('Arad', 'Sibiu', 140)\n",
    "addEdge('Arad', 'Timisoara', 118)\n",
    "addEdge('Timisoara', 'Lugoj', 111)\n",
    "addEdge('Lugoj', 'Mehadia', 70)\n",
    "addEdge('Mehadia', 'Dobreta', 75)\n",
    "addEdge('Dobreta', 'Craiova', 120)\n",
    "addEdge('Sibiu', 'Fagaras', 99)\n",
    "addEdge('Sibiu', 'Rimnicu Vilcea', 80)\n",
    "addEdge('Rimnicu Vilcea', 'Pitesti', 97)\n",
    "addEdge('Rimnicu Vilcea', 'Craiova', 146)\n",
    "addEdge('Craiova', 'Pitesti', 138)\n",
    "addEdge('Fagaras', 'Bucharest', 211)\n",
    "addEdge('Pitesti', 'Bucharest', 101)\n",
    "addEdge('Bucharest', 'Giurgiu', 90)\n",
    "addEdge('Bucharest', 'Urziceni', 85)\n",
    "addEdge('Urziceni', 'Hirsova', 98)\n",
    "addEdge('Hirsova', 'Eforie', 86)\n",
    "addEdge('Urziceni', 'Vaslui', 142)\n",
    "addEdge('Vaslui', 'Iasi', 92)\n",
    "addEdge('Iasi', 'Neamt', 87)"
   ]
  },
  {
   "cell_type": "code",
   "execution_count": 7,
   "metadata": {},
   "outputs": [],
   "source": [
    "def A_Start(startNode, goalNode):\n",
    "    startNodo = startNode\n",
    "    goalNodo = goalNode\n",
    "\n",
    "    openList = NodeList()\n",
    "    closeList = NodeList()\n",
    "    startNode = Node(startNodo)\n",
    "    startNode.fs = startNode.hs\n",
    "    openList.append(startNode)\n",
    "    endNode = None\n",
    "\n",
    "    while True:\n",
    "        if openList == []:\n",
    "            print(\"There is no route until reaching a goal.\")\n",
    "            exit(1)\n",
    "        n = min(openList, key=lambda x: x.fs)\n",
    "        openList.remove(n)\n",
    "        closeList.append(n)\n",
    "        if n.isGoal(goalNodo):\n",
    "            endNode = n\n",
    "            break\n",
    "        n_gs = n.fs - n.hs\n",
    "        for v in graph[cities[n.city]]:\n",
    "            cityB = v.cityB\n",
    "            m = openList.find(cityB)\n",
    "            dist = v.distance\n",
    "            if m:\n",
    "                if m.fs > n_gs + m.hs + dist:\n",
    "                    m.fs = n_gs + m.hs + dist\n",
    "                    m.parent_node = n\n",
    "            else:\n",
    "                m = closeList.find(cityB)\n",
    "                if m:\n",
    "                    if m.fs > n_gs + m.hs + dist:\n",
    "                        m.fs = n_gs + m.hs + dist\n",
    "                        m.parent_node = n\n",
    "                        openList.append(m)\n",
    "                        closeList.remove(m)\n",
    "                else:\n",
    "                    m = Node(cityB)\n",
    "                    m.fs = n_gs + m.hs + dist\n",
    "                    print(m.fs, cityB)\n",
    "                    m.parent_node = n\n",
    "                    openList.append(m)\n",
    "    n = endNode\n",
    "    sol = []\n",
    "    while True:\n",
    "        sol.append(n.city)\n",
    "        if n.parent_node == None:\n",
    "            break\n",
    "        n = n.parent_node\n",
    "    sol.reverse()\n",
    "    return(list(sol))"
   ]
  },
  {
   "cell_type": "code",
   "execution_count": 8,
   "metadata": {},
   "outputs": [
    {
     "output_type": "stream",
     "name": "stdout",
     "text": [
      "484 Arad\n355 Lugoj\n422 Mehadia\n498 Dobreta\n567 Zerind\n511 Sibiu\n536 Craiova\n789 Oradea\n535 Fagaras\n531 Rimnicu Vilcea\n533 Pitesti\n536 Bucharest\n"
     ]
    },
    {
     "output_type": "execute_result",
     "data": {
      "text/plain": [
       "['Timisoara', 'Arad', 'Sibiu', 'Rimnicu Vilcea', 'Pitesti', 'Bucharest']"
      ]
     },
     "metadata": {},
     "execution_count": 8
    }
   ],
   "source": [
    "A_Start('Timisoara', 'Bucharest')"
   ]
  }
 ]
}