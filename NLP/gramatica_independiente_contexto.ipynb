{
 "metadata": {
  "language_info": {
   "codemirror_mode": {
    "name": "ipython",
    "version": 3
   },
   "file_extension": ".py",
   "mimetype": "text/x-python",
   "name": "python",
   "nbconvert_exporter": "python",
   "pygments_lexer": "ipython3",
   "version": "3.9.5"
  },
  "orig_nbformat": 4,
  "kernelspec": {
   "name": "python3",
   "display_name": "Python 3.9.5 64-bit"
  },
  "interpreter": {
   "hash": "d2449633cc4644a18d737abec8d4cfef0a4a03bd759de12d8dfce51aadc714dc"
  }
 },
 "nbformat": 4,
 "nbformat_minor": 2,
 "cells": [
  {
   "cell_type": "code",
   "execution_count": 1,
   "metadata": {},
   "outputs": [
    {
     "output_type": "stream",
     "name": "stdout",
     "text": [
      "Requirement already satisfied: nltk in c:\\users\\gino_\\appdata\\local\\programs\\python\\python39\\lib\\site-packages (3.3)\n",
      "Requirement already satisfied: six in c:\\users\\gino_\\appdata\\roaming\\python\\python39\\site-packages (from nltk) (1.15.0)\n",
      "Note: you may need to restart the kernel to use updated packages.\n",
      "WARNING: You are using pip version 21.1.2; however, version 21.1.3 is available.\n",
      "You should consider upgrading via the 'C:\\Users\\gino_\\AppData\\Local\\Programs\\Python\\Python39\\python.exe -m pip install --upgrade pip' command.\n"
     ]
    }
   ],
   "source": [
    "pip install nltk"
   ]
  },
  {
   "source": [
    "## Gramáticas"
   ],
   "cell_type": "markdown",
   "metadata": {}
  },
  {
   "cell_type": "code",
   "execution_count": 2,
   "metadata": {},
   "outputs": [],
   "source": [
    "import nltk\n",
    "from nltk import CFG\n",
    "from nltk.parse.generate import generate"
   ]
  },
  {
   "cell_type": "code",
   "execution_count": 3,
   "metadata": {},
   "outputs": [],
   "source": [
    "gramatica = CFG.fromstring(\"\"\" \n",
    "F -> SUJETO PREDICADO\n",
    "SUJETO -> 'juan' | 'pedro' | 'maria' | 'salgado'\n",
    "PREDICADO -> VT OD\n",
    "PREDICADO -> VI\n",
    "VT -> 'ama'  | 'lava' | 'peina' | 'adora'\n",
    "OD -> 'paula' | 'antonio' | 'sultan'\n",
    "VI -> 'corre' | 'salta' | 'camina'\n",
    "\"\"\")"
   ]
  },
  {
   "source": [
    "## Mostramos la gramática"
   ],
   "cell_type": "markdown",
   "metadata": {}
  },
  {
   "cell_type": "code",
   "execution_count": 4,
   "metadata": {},
   "outputs": [
    {
     "output_type": "stream",
     "name": "stdout",
     "text": [
      "La gramática:  Grammar with 17 productions (start state = F)\n    F -> SUJETO PREDICADO\n    SUJETO -> 'juan'\n    SUJETO -> 'pedro'\n    SUJETO -> 'maria'\n    SUJETO -> 'salgado'\n    PREDICADO -> VT OD\n    PREDICADO -> VI\n    VT -> 'ama'\n    VT -> 'lava'\n    VT -> 'peina'\n    VT -> 'adora'\n    OD -> 'paula'\n    OD -> 'antonio'\n    OD -> 'sultan'\n    VI -> 'corre'\n    VI -> 'salta'\n    VI -> 'camina'\n"
     ]
    }
   ],
   "source": [
    "print('La gramática: ', gramatica)\n",
    "# 17 reglas o producciones"
   ]
  },
  {
   "source": [
    "## El axioma o punto de partida"
   ],
   "cell_type": "markdown",
   "metadata": {}
  },
  {
   "cell_type": "code",
   "execution_count": 5,
   "metadata": {},
   "outputs": [
    {
     "output_type": "stream",
     "name": "stdout",
     "text": [
      "Inicio:  F\n"
     ]
    }
   ],
   "source": [
    "print('Inicio: ', gramatica.start())"
   ]
  },
  {
   "source": [
    "## Producciones"
   ],
   "cell_type": "markdown",
   "metadata": {}
  },
  {
   "cell_type": "code",
   "execution_count": 6,
   "metadata": {},
   "outputs": [
    {
     "output_type": "stream",
     "name": "stdout",
     "text": [
      "[F -> SUJETO PREDICADO, SUJETO -> 'juan', SUJETO -> 'pedro', SUJETO -> 'maria', SUJETO -> 'salgado', PREDICADO -> VT OD, PREDICADO -> VI, VT -> 'ama', VT -> 'lava', VT -> 'peina', VT -> 'adora', OD -> 'paula', OD -> 'antonio', OD -> 'sultan', VI -> 'corre', VI -> 'salta', VI -> 'camina']\n"
     ]
    }
   ],
   "source": [
    "print(gramatica.productions())"
   ]
  },
  {
   "source": [
    "## Verificar si una frase corresponde a la gramática"
   ],
   "cell_type": "markdown",
   "metadata": {}
  },
  {
   "cell_type": "code",
   "execution_count": 7,
   "metadata": {},
   "outputs": [
    {
     "output_type": "stream",
     "name": "stdout",
     "text": [
      "Esta correctamente escrito\n"
     ]
    }
   ],
   "source": [
    "try:\n",
    "    gramatica.check_coverage(['maria','ama','antonio'])\n",
    "    print('Esta correctamente escrito')\n",
    "except:\n",
    "    print('La frase no esta en la gramática')"
   ]
  },
  {
   "source": [
    "## Generación del lenguaje"
   ],
   "cell_type": "markdown",
   "metadata": {}
  },
  {
   "cell_type": "code",
   "execution_count": 8,
   "metadata": {},
   "outputs": [
    {
     "output_type": "stream",
     "name": "stdout",
     "text": [
      "juan ama paula\njuan ama antonio\njuan ama sultan\njuan lava paula\njuan lava antonio\njuan lava sultan\njuan peina paula\njuan peina antonio\njuan peina sultan\njuan adora paula\njuan adora antonio\njuan adora sultan\njuan corre\njuan salta\njuan camina\npedro ama paula\npedro ama antonio\npedro ama sultan\npedro lava paula\npedro lava antonio\npedro lava sultan\npedro peina paula\npedro peina antonio\npedro peina sultan\npedro adora paula\npedro adora antonio\npedro adora sultan\npedro corre\npedro salta\npedro camina\nmaria ama paula\nmaria ama antonio\nmaria ama sultan\nmaria lava paula\nmaria lava antonio\nmaria lava sultan\nmaria peina paula\nmaria peina antonio\nmaria peina sultan\nmaria adora paula\nmaria adora antonio\nmaria adora sultan\nmaria corre\nmaria salta\nmaria camina\nsalgado ama paula\nsalgado ama antonio\nsalgado ama sultan\nsalgado lava paula\nsalgado lava antonio\n"
     ]
    }
   ],
   "source": [
    "# limitar la cantidad de frases que se genere en casos de recursividad, para esto el valor de n\n",
    "# En la realidad todos los lenguajes tienen recursividad\n",
    "for sentence in generate(gramatica, n = 50):\n",
    "    print(' '.join(sentence))"
   ]
  },
  {
   "source": [
    "## Generar Arbol derivacional"
   ],
   "cell_type": "markdown",
   "metadata": {}
  },
  {
   "cell_type": "code",
   "execution_count": 9,
   "metadata": {},
   "outputs": [
    {
     "output_type": "stream",
     "name": "stdout",
     "text": [
      "(F (SUJETO maria) (PREDICADO (VT ama) (OD antonio)))\n"
     ]
    }
   ],
   "source": [
    "frase = ['maria','ama','antonio']\n",
    "parser = nltk.ChartParser(gramatica)\n",
    "for arbol in parser.parse(frase):\n",
    "    print(arbol)"
   ]
  }
 ]
}